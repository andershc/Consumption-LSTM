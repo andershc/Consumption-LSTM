{
 "cells": [
  {
   "cell_type": "code",
   "execution_count": 15,
   "metadata": {},
   "outputs": [
    {
     "name": "stdout",
     "output_type": "stream",
     "text": [
      "[0.8958160877227783, 0.8043079376220703, 0.6675703525543213, 0.622875452041626, 0.4776018559932709, 0.4359965920448303, 0.3745022118091583, 0.42422789335250854, 0.24211393296718597, 0.15466204285621643, 0.12528136372566223, 0.1319161057472229, 0.15406253933906555, 0.15099301934242249, 0.12356894463300705, 0.10123362392187119, 0.09629707038402557, 0.10244527459144592, 0.10102999955415726, 0.09766121953725815, 0.09990090876817703, 0.09865251183509827, 0.09066464006900787, 0.08126916736364365, 0.07534656673669815, 0.07485272735357285, 0.07112577557563782, 0.06654856353998184, 0.06494191288948059, 0.06584186106920242, 0.06353060156106949, 0.0610043965280056, 0.0563134141266346, 0.05222516134381294, 0.05106794089078903, 0.050166331231594086, 0.050485990941524506, 0.04915108159184456, 0.048979539424180984, 0.049183450639247894, 0.04894149303436279, 0.04779965803027153, 0.04601849243044853, 0.04484744369983673, 0.04438994824886322, 0.044861212372779846, 0.04523351788520813, 0.04457757994532585, 0.044058602303266525, 0.04377349838614464]\n",
      "[1.8077784776687622, 2.2787537574768066, 1.4367027282714844, 1.1386239528656006, 0.5676794648170471, 0.11809784173965454, 0.3037724792957306, 0.1361526995897293, 0.14756639301776886, 0.2072092443704605, 0.2138286679983139, 0.18986426293849945, 0.15123672783374786, 0.11479535698890686, 0.10143610090017319, 0.1276216208934784, 0.15836390852928162, 0.12992940843105316, 0.08588126301765442, 0.08642913401126862, 0.09161830693483353, 0.08457057178020477, 0.08134700357913971, 0.09746258705854416, 0.11723349243402481, 0.11198674887418747, 0.08950908482074738, 0.07869073748588562, 0.08204343169927597, 0.08508268743753433, 0.08243810385465622, 0.07803793996572495, 0.0787431076169014, 0.08661647140979767, 0.0941869467496872, 0.0916917696595192, 0.0829847902059555, 0.0778367817401886, 0.07811636477708817, 0.07862571626901627, 0.07767147570848465, 0.0769190788269043, 0.07838515937328339, 0.08126486837863922, 0.08261454105377197, 0.08084941655397415, 0.0776209831237793, 0.0760183110833168, 0.07653684914112091, 0.07747998088598251]\n"
     ]
    }
   ],
   "source": [
    "import pandas as pd\n",
    "import torch\n",
    "import torch.nn as nn\n",
    "import torch.optim as optim\n",
    "from sklearn.preprocessing import StandardScaler\n",
    "\n",
    "# Load the data\n",
    "data = pd.read_csv('consumption_temp.csv')\n",
    "\n",
    "# Filter for 'Oslo'\n",
    "oslo_data = data[data['location'] == 'oslo']\n",
    "\n",
    "# Standardize the data\n",
    "scaler = StandardScaler()\n",
    "scaled_data = scaler.fit_transform(oslo_data[['consumption', 'temperature']])\n",
    "\n",
    "# Create sequences\n",
    "def create_sequences(data, seq_length):\n",
    "    sequences = []\n",
    "    target = []\n",
    "    for i in range(len(data) - seq_length):\n",
    "        sequences.append(data[i:i+seq_length])\n",
    "        target.append([data[i+seq_length, 0]])  # Only select the 'consumption' column\n",
    "    return torch.tensor(sequences).float(), torch.tensor(target).float()\n",
    "\n",
    "\n",
    "seq_length = 24\n",
    "X, y = create_sequences(scaled_data, seq_length)\n",
    "\n",
    "# Split into training and test sets\n",
    "train_size = int(0.8 * len(X))\n",
    "X_train_seq = X[:train_size]\n",
    "y_train_seq = y[:train_size]\n",
    "X_test_seq = X[train_size:]\n",
    "y_test_seq = y[train_size:]\n",
    "\n",
    "# Adjusted LSTM model definition\n",
    "class AdjustedLSTMModel(nn.Module):\n",
    "    def __init__(self, input_dim, hidden_dim, num_layers, output_dim):\n",
    "        super(AdjustedLSTMModel, self).__init__()\n",
    "        self.hidden_dim = hidden_dim\n",
    "        self.num_layers = num_layers\n",
    "        self.lstm1 = nn.LSTM(input_dim, hidden_dim, num_layers, batch_first=True)\n",
    "        self.lstm2 = nn.LSTM(hidden_dim, hidden_dim, num_layers, batch_first=True)\n",
    "        self.dropout = nn.Dropout(0.3)\n",
    "        self.fc = nn.Linear(hidden_dim, output_dim)\n",
    "        \n",
    "    def forward(self, x):\n",
    "        h0 = torch.zeros(self.num_layers, x.size(0), self.hidden_dim).requires_grad_()\n",
    "        c0 = torch.zeros(self.num_layers, x.size(0), self.hidden_dim).requires_grad_()\n",
    "        out, (hn, cn) = self.lstm1(x, (h0.detach(), c0.detach()))\n",
    "        out, (hn, cn) = self.lstm2(out)\n",
    "        out = self.dropout(out[:, -1, :])\n",
    "        out = self.fc(out)\n",
    "        return out\n",
    "\n",
    "# Initialize the model, criterion, optimizer, and scheduler\n",
    "input_dim = 2\n",
    "hidden_dim = 100\n",
    "num_layers = 2\n",
    "output_dim = 1\n",
    "model = AdjustedLSTMModel(input_dim, hidden_dim, num_layers, output_dim)\n",
    "criterion = nn.MSELoss()\n",
    "optimizer = torch.optim.Adam(model.parameters(), lr=0.005)\n",
    "scheduler = torch.optim.lr_scheduler.StepLR(optimizer, step_size=10, gamma=0.7)\n",
    "\n",
    "# Training loop\n",
    "num_epochs = 50\n",
    "train_losses = []\n",
    "val_losses = []\n",
    "\n",
    "for epoch in range(num_epochs):\n",
    "    model.train()\n",
    "    optimizer.zero_grad()\n",
    "    outputs = model(X_train_seq)\n",
    "    loss = criterion(outputs, y_train_seq)\n",
    "    loss.backward()\n",
    "    optimizer.step()\n",
    "    train_losses.append(loss.item())\n",
    "    \n",
    "    model.eval()\n",
    "    val_outputs = model(X_test_seq)\n",
    "    val_loss = criterion(val_outputs, y_test_seq)\n",
    "    val_losses.append(val_loss.item())\n",
    "    \n",
    "    scheduler.step()\n",
    "\n",
    "# You can print or plot train_losses and val_losses to see the training progression\n",
    "print(train_losses)\n",
    "print(val_losses)\n",
    "\n"
   ]
  },
  {
   "cell_type": "code",
   "execution_count": 23,
   "metadata": {},
   "outputs": [
    {
     "name": "stdout",
     "output_type": "stream",
     "text": [
      "torch.Size([6893, 24, 2])\n",
      "torch.Size([1724, 24, 2])\n",
      "torch.Size([6893, 1])\n",
      "torch.Size([1724, 1])\n"
     ]
    }
   ],
   "source": [
    "print(X_train_seq.shape)\n",
    "print(X_test_seq.shape)\n",
    "print(y_train_seq.shape)\n",
    "print(y_test_seq.shape)"
   ]
  },
  {
   "cell_type": "code",
   "execution_count": 25,
   "metadata": {},
   "outputs": [
    {
     "name": "stdout",
     "output_type": "stream",
     "text": [
      "torch.Size([1, 24, 2])\n",
      "[10.21807779]\n"
     ]
    }
   ],
   "source": [
    "import numpy as np\n",
    "\n",
    "def make_predictions(new_data, model, scaler, seq_length):\n",
    "    # Assuming new_data is a DataFrame with 'consumption' and 'temperature' columns\n",
    "    \n",
    "    # Standardize the new data\n",
    "    scaled_new_data = scaler.transform(new_data[['consumption', 'temperature']])\n",
    "    \n",
    "   # If data is less than sequence length, pad it\n",
    "    if len(scaled_new_data) <= seq_length:\n",
    "        padding_length = seq_length + 1 - len(scaled_new_data)\n",
    "        scaled_new_data = np.vstack((np.zeros((padding_length, scaled_new_data.shape[1])), scaled_new_data))\n",
    "\n",
    "    \n",
    "    # Create sequences from the standardized data\n",
    "    X_new, _ = create_sequences(scaled_new_data, seq_length)  # We don't need the targets here\n",
    "    print(X_new.shape)\n",
    "    \n",
    "    # Add an additional dimension if only a single sequence is present\n",
    "    if len(X_new.shape) == 2:\n",
    "        X_new = X_new.unsqueeze(0)\n",
    "    \n",
    "    # Set the model to evaluation mode\n",
    "    model.eval()\n",
    "    \n",
    "    # Make predictions\n",
    "    with torch.no_grad():\n",
    "        predictions = model(X_new)\n",
    "    \n",
    "    # Convert the scaled predictions back to the original scale\n",
    "    predictions_np = predictions.cpu().numpy()\n",
    "    predictions_combined = np.hstack((predictions_np, np.zeros((predictions_np.shape[0], 1))))\n",
    "    predictions_original_scale = scaler.inverse_transform(predictions_combined)[:, 0]\n",
    "    \n",
    "    return predictions_original_scale\n",
    "\n",
    "# Example usage:\n",
    "new_data = pd.DataFrame({\"consumption\": [100, 150, 200], \"temperature\": [15, 16, 17]})  # Just a dummy example\n",
    "predicted_consumption = make_predictions(new_data, model, scaler, seq_length)\n",
    "print(predicted_consumption)"
   ]
  }
 ],
 "metadata": {
  "kernelspec": {
   "display_name": "Python 3",
   "language": "python",
   "name": "python3"
  },
  "language_info": {
   "codemirror_mode": {
    "name": "ipython",
    "version": 3
   },
   "file_extension": ".py",
   "mimetype": "text/x-python",
   "name": "python",
   "nbconvert_exporter": "python",
   "pygments_lexer": "ipython3",
   "version": "3.10.10"
  },
  "orig_nbformat": 4
 },
 "nbformat": 4,
 "nbformat_minor": 2
}
